{
 "cells": [
  {
   "cell_type": "code",
   "execution_count": 1,
   "metadata": {},
   "outputs": [
    {
     "name": "stdout",
     "output_type": "stream",
     "text": [
      "this is 11th march assignment\n"
     ]
    }
   ],
   "source": [
    "print(\"this is 11th march assignment\")"
   ]
  },
  {
   "attachments": {},
   "cell_type": "markdown",
   "metadata": {},
   "source": [
    "Q1: What is the difference between a t-test and a z-test? Provide an example scenario where you would\n",
    "use each type of test."
   ]
  },
  {
   "attachments": {},
   "cell_type": "markdown",
   "metadata": {},
   "source": [
    "The key difference between a t-test and a z-test is the knowledge of the population standard deviation. A z-test is used when the population standard deviation is known, while a t-test is used when the population standard deviation is unknown and must be estimated from the sample data.\n",
    "\n",
    "An example scenario where a z-test would be appropriate is when testing a claim about the population mean weight of a type of product when the population standard deviation is known. For instance, a manufacturer claims that the average weight of a particular type of product is 10 pounds with a population standard deviation of 1 pound. A sample of 25 products is taken, and the sample mean weight is found to be 9.5 pounds. In this case, a z-test can be used to determine whether the sample mean weight is significantly different from the claimed population mean weight.\n",
    "\n",
    "An example scenario where a t-test would be appropriate is when testing a claim about the population mean of a type of product when the population standard deviation is unknown. For instance, a researcher wants to test if a new medication reduces the blood pressure significantly. A sample of 100 patients is taken, and the sample mean decrease in blood pressure is found to be 8 mmHg with a standard deviation of 3 mmHg. In this case, a t-test can be used to determine whether the sample mean decrease in blood pressure is significantly different from the hypothesized population mean decrease in blood pressure."
   ]
  },
  {
   "attachments": {},
   "cell_type": "markdown",
   "metadata": {},
   "source": [
    "Q2: Differentiate between one-tailed and two-tailed tests."
   ]
  },
  {
   "attachments": {},
   "cell_type": "markdown",
   "metadata": {},
   "source": [
    "In hypothesis testing, a one-tailed test is a statistical test in which the alternative hypothesis is stated directionally. It means that the null hypothesis is rejected if the sample mean is either significantly greater or significantly less than the hypothesized population mean. In other words, it tests whether a sample mean is greater than or less than a certain value. A one-tailed test is used when the researcher has a specific directional hypothesis and wants to test whether the sample mean is significantly greater or significantly less than the hypothesized population mean in that direction.\n",
    "\n",
    "On the other hand, a two-tailed test is a statistical test in which the alternative hypothesis is not stated directionally. It means that the null hypothesis is rejected if the sample mean is significantly different from the hypothesized population mean in either direction. In other words, it tests whether a sample mean is significantly different from a certain value. A two-tailed test is used when the researcher has a non-directional hypothesis and wants to test whether the sample mean is significantly different from the hypothesized population mean, without any prior directionality.\n",
    "\n"
   ]
  },
  {
   "attachments": {},
   "cell_type": "markdown",
   "metadata": {},
   "source": [
    "Q3: Explain the concept of Type 1 and Type 2 errors in hypothesis testing. Provide an example scenario for\n",
    "each type of error."
   ]
  },
  {
   "attachments": {},
   "cell_type": "markdown",
   "metadata": {},
   "source": [
    "Type 1 error, also known as a false positive, occurs when a null hypothesis is rejected even though it is true. This means that the researcher concludes that there is a significant effect or difference when there is not. For example, a medical test may indicate that a patient has a disease when in fact they do not.\n",
    "\n",
    "Type 2 error, also known as a false negative, occurs when a null hypothesis is accepted even though it is false. This means that the researcher fails to detect a significant effect or difference when there is one. For example, a medical test may indicate that a patient does not have a disease when in fact they do.\n",
    "\n",
    "In hypothesis testing, the significance level and power of a test can be adjusted to reduce the risk of Type 1 or Type 2 errors, but it is not always possible to completely eliminate the risk of either type of error."
   ]
  },
  {
   "attachments": {},
   "cell_type": "markdown",
   "metadata": {},
   "source": [
    "Q4: Explain Bayes's theorem with an example."
   ]
  },
  {
   "attachments": {},
   "cell_type": "markdown",
   "metadata": {},
   "source": [
    "Bayes's theorem is a mathematical formula that describes the probability of an event occurring based on prior knowledge of related conditions. An example of its application is predicting the probability of a person having a disease given their symptoms and the prevalence of the disease in the population."
   ]
  },
  {
   "attachments": {},
   "cell_type": "markdown",
   "metadata": {},
   "source": [
    "Q5: What is a confidence interval? How to calculate the confidence interval, explain with an example."
   ]
  },
  {
   "attachments": {},
   "cell_type": "markdown",
   "metadata": {},
   "source": [
    "A confidence interval is a range of values that is likely to contain a population parameter with a certain degree of confidence. It is calculated based on a sample statistic and the standard error of the statistic.\n",
    "\n",
    "For example, suppose we want to estimate the average height of all adults in a certain town. We take a random sample of 100 adults and find that their average height is 175 cm with a standard deviation of 5 cm. We can calculate a 95% confidence interval for the population mean height using the formula: sample mean +/- (critical value x standard error), where the critical value is obtained from a t-distribution table and the standard error is calculated as the sample standard deviation divided by the square root of the sample size. The resulting interval would give us a range of values within which we can be 95% confident that the population mean height falls."
   ]
  },
  {
   "attachments": {},
   "cell_type": "markdown",
   "metadata": {},
   "source": [
    "Q6. Use Bayes' Theorem to calculate the probability of an event occurring given prior knowledge of the\n",
    "event's probability and new evidence. Provide a sample problem and solution.\n"
   ]
  },
  {
   "attachments": {},
   "cell_type": "markdown",
   "metadata": {},
   "source": [
    "\n",
    "Problem:\n",
    "Suppose a factory produces two types of widgets, A and B, and each type is produced with a probability of 50%. Widget A is defective with a probability of 5%, while Widget B is defective with a probability of 10%. If a widget is randomly selected and found to be defective, what is the probability that it is Widget A?\n",
    "\n",
    "Solution:\n",
    "Let's use Bayes' Theorem to calculate the probability that the defective widget is Widget A, given that it is known to be defective:\n",
    "\n",
    "P(A|D) = P(D|A) * P(A) / P(D)\n",
    "\n",
    "where:\n",
    "P(A|D) is the probability that the defective widget is Widget A, given that it is known to be defective (the posterior probability)\n",
    "P(D|A) is the probability that a Widget A is defective (the likelihood)\n",
    "P(A) is the prior probability that a widget is Widget A\n",
    "P(D) is the overall probability of observing a defective widget (the normalizing constant)\n",
    "\n",
    "We know that P(A) = 0.5 (since the two types of widgets are produced with equal probability) and P(D|A) = 0.05 (since Widget A is defective with a probability of 5%). To calculate P(D), we need to use the law of total probability:\n",
    "\n",
    "P(D) = P(D|A) * P(A) + P(D|B) * P(B)\n",
    "\n",
    "where P(B) = 0.5 and P(D|B) = 0.1 (since Widget B is defective with a probability of 10%). Substituting these values into the formula for P(D), we get:\n",
    "\n",
    "P(D) = 0.05 * 0.5 + 0.1 * 0.5 = 0.075\n",
    "\n",
    "Now we can plug all of these values into Bayes' Theorem to get the posterior probability:\n",
    "\n",
    "P(A|D) = 0.05 * 0.5 / 0.075 = 0.333\n",
    "\n",
    "Therefore, the probability that the defective widget is Widget A, given that it is known to be defective, is 0.333 (or 33.3%)."
   ]
  },
  {
   "attachments": {},
   "cell_type": "markdown",
   "metadata": {},
   "source": [
    "Q7. Calculate the 95% confidence interval for a sample of data with a mean of 50 and a standard deviation\n",
    "of 5. Interpret the results."
   ]
  },
  {
   "attachments": {},
   "cell_type": "markdown",
   "metadata": {},
   "source": [
    "To calculate the 95% confidence interval, we need to use the following formula:\n",
    "\n",
    "CI = X̄ ± z*(σ/√n)\n",
    "\n",
    "where X̄ is the sample mean, σ is the standard deviation, n is the sample size, and z is the z-score corresponding to the desired confidence level. For a 95% confidence interval, the z-score is 1.96.\n",
    "\n",
    "Substituting the values given in the problem, we get:\n",
    "\n",
    "CI = 50 ± 1.96*(5/√n)"
   ]
  },
  {
   "attachments": {},
   "cell_type": "markdown",
   "metadata": {},
   "source": [
    "Q8. What is the margin of error in a confidence interval? How does sample size affect the margin of error?\n",
    "Provide an example of a scenario where a larger sample size would result in a smaller margin of error."
   ]
  },
  {
   "attachments": {},
   "cell_type": "markdown",
   "metadata": {},
   "source": [
    "The margin of error is the range of values that represents the precision of the estimate for a population parameter such as the mean or proportion, based on a sample from the population. It is the maximum amount that the sample estimate can deviate from the true population parameter, within a certain level of confidence.\n",
    "\n",
    "The margin of error is influenced by several factors, including the sample size, population variability, and level of confidence. The larger the sample size, the smaller the margin of error, as the sample estimate becomes more representative of the population. Conversely, a smaller sample size is associated with a larger margin of error, as the estimate is based on fewer observations and may not capture the true variability of the population.\n",
    "\n",
    "For example, suppose a political polling company wants to estimate the proportion of voters who support a particular candidate, with a margin of error of 3% and a confidence level of 95%. If the sample size is 400, the margin of error would be calculated as:\n",
    "\n",
    "Margin of error = z * sqrt(p*(1-p)/n)\n",
    "where z = 1.96 (from the standard normal distribution for 95% confidence)\n",
    "      p = 0.5 (assuming maximum variability)\n",
    "      n = 400 (sample size)\n",
    "\n",
    "Margin of error = 1.96 * sqrt(0.5*(1-0.5)/400) = 0.05 or 5%\n",
    "\n",
    "Therefore, the polling company can claim with 95% confidence that the true proportion of voters who support the candidate lies within the range of 47% to 53% (50% +/- 5%). If the sample size were increased to 1600, the margin of error would decrease to 1.25% (0.03125), resulting in a narrower confidence interval."
   ]
  },
  {
   "attachments": {},
   "cell_type": "markdown",
   "metadata": {},
   "source": [
    "Q9. Calculate the z-score for a data point with a value of 75, a population mean of 70, and a population\n",
    "standard deviation of 5. Interpret the results."
   ]
  },
  {
   "attachments": {},
   "cell_type": "markdown",
   "metadata": {},
   "source": [
    "Z Score = (x − x̅ )/σ\n",
    "\n",
    "Z Score = (75-70)/5 = 2"
   ]
  },
  {
   "attachments": {},
   "cell_type": "markdown",
   "metadata": {},
   "source": [
    "Q10. In a study of the effectiveness of a new weight loss drug, a sample of 50 participants lost an average\n",
    "of 6 pounds with a standard deviation of 2.5 pounds. Conduct a hypothesis test to determine if the drug is\n",
    "significantly effective at a 95% confidence level using a t-test."
   ]
  },
  {
   "attachments": {},
   "cell_type": "markdown",
   "metadata": {},
   "source": [
    "To conduct the hypothesis test, we can use a one-sample t-test.  \n",
    "The null hypothesis is that the population mean weight loss is equal to zero  \n",
    "alternative hypothesis is that the population mean weight loss is less than zero.\n",
    "\n",
    "Let's assume a significance level of 0.05.\n",
    "\n",
    "Null hypothesis: µ = 0\n",
    "Alternative hypothesis: µ < 0\n",
    "\n",
    "Sample size (n) = 50\n",
    "Sample mean (x̄) = 6\n",
    "Sample standard deviation (s) = 2.5\n",
    "\n",
    "The test statistic for the t-test can be calculated as:\n",
    "\n",
    "t = (x̄ - µ) / (s / sqrt(n))\n",
    "\n",
    "where sqrt is the square root function.\n",
    "\n",
    "At a 95% confidence level with 49 degrees of freedom (n-1), the critical value for a one-tailed test is -1.677. \n",
    "\n",
    "If the calculated t-value is less than -1.677, we reject the null hypothesis in favor of the alternative hypothesis. \n",
    "\n",
    "The calculated t-value is:\n",
    "\n",
    "t = (6 - 0) / (2.5 / sqrt(50))\n",
    "t = 13.42\n",
    "\n",
    "Since the calculated t-value is greater than the critical value of -1.677, we can reject the null hypothesis and conclude that the drug is significantly effective at a 95% confidence level."
   ]
  },
  {
   "attachments": {},
   "cell_type": "markdown",
   "metadata": {},
   "source": [
    "Q11. In a survey of 500 people, 65% reported being satisfied with their current job. Calculate the 95%\n",
    "confidence interval for the true proportion of people who are satisfied with their job."
   ]
  },
  {
   "attachments": {},
   "cell_type": "markdown",
   "metadata": {},
   "source": [
    "To calculate the 95% confidence interval for the true proportion of people who are satisfied with their job, we can use the following formula:\n",
    "\n",
    "Confidence interval = sample proportion ± z* (standard error)\n",
    "\n",
    "Where z* is the z-value for the desired confidence level, and the standard error is calculated as:\n",
    "\n",
    "Standard error = √[(sample proportion * (1 - sample proportion)) / n]\n",
    "\n",
    "Here, we have n = 500, sample proportion = 0.65 and we want a 95% confidence level, which corresponds to a z-value of 1.96 (from the standard normal distribution table). Substituting these values into the formula, we get:\n",
    "\n",
    "Standard error = √[(0.65 * 0.35) / 500] = 0.032\n",
    "\n",
    "Confidence interval = 0.65 ± 1.96 * 0.032 = [0.588, 0.712]\n",
    "\n",
    "Therefore, we can be 95% confident that the true proportion of people who are satisfied with their job is between 58.8% and 71.2%.\n"
   ]
  },
  {
   "attachments": {},
   "cell_type": "markdown",
   "metadata": {},
   "source": [
    "Q12. A researcher is testing the effectiveness of two different teaching methods on student performance.\n",
    "Sample A has a mean score of 85 with a standard deviation of 6, while sample B has a mean score of 82\n",
    "with a standard deviation of 5. Conduct a hypothesis test to determine if the two teaching methods have a\n",
    "significant difference in student performance using a t-test with a significance level of 0.01."
   ]
  },
  {
   "attachments": {},
   "cell_type": "markdown",
   "metadata": {},
   "source": [
    "To conduct the hypothesis test, we need to set up the null and alternative hypotheses as follows:\n",
    "\n",
    "Null hypothesis: There is no significant difference in student performance between the two teaching methods.\n",
    "Alternative hypothesis: There is a significant difference in student performance between the two teaching methods.\n",
    "\n",
    "We will use a two-tailed t-test since we are testing for a difference between two sample means. The level of significance is 0.01.\n",
    "\n",
    "First, let's calculate the pooled standard deviation:\n",
    "\n",
    "sp = sqrt(((n1 - 1) * s1**2 + (n2 - 1) * s2**2) / (n1 + n2 - 2))\n",
    "sp = sqrt(((30 - 1) * 6**2 + (40 - 1) * 5**2) / (30 + 40 - 2))\n",
    "sp = 5.430\n",
    "\n",
    "where n1 = 30, s1 = 6, n2 = 40, and s2 = 5.\n",
    "\n",
    "Next, let's calculate the t-statistic:\n",
    "\n",
    "t = (x1 - x2) / (sp * sqrt(1/n1 + 1/n2))\n",
    "t = (85 - 82) / (5.430 * sqrt(1/30 + 1/40))\n",
    "t = 2.262\n",
    "\n",
    "where x1 = 85 and x2 = 82.\n",
    "\n",
    "Finally, let's compare the t-statistic with the critical t-value from the t-distribution table with degrees of freedom of n1 + n2 - 2 = 68 and a significance level of 0.01. The critical t-value is ±2.660.\n",
    "\n",
    "Since our calculated t-statistic (2.262) falls within the range of -2.660 to 2.660, we fail to reject the null hypothesis. Therefore, we can conclude that there is no significant difference in student performance between the two teaching methods at a 0.01 significance level."
   ]
  },
  {
   "attachments": {},
   "cell_type": "markdown",
   "metadata": {},
   "source": [
    "Q13. A population has a mean of 60 and a standard deviation of 8. A sample of 50 observations has a mean\n",
    "of 65. Calculate the 90% confidence interval for the true population mean."
   ]
  },
  {
   "attachments": {},
   "cell_type": "markdown",
   "metadata": {},
   "source": [
    "To calculate the 90% confidence interval for the true population mean, we can use the formula:\n",
    "\n",
    "CI = X̄ ± Zα/2 * σ/√n\n",
    "\n",
    "where X̄ is the sample mean, Zα/2 is the critical value of the standard normal distribution corresponding to the desired confidence level (in this case 90%, so Zα/2 = 1.645), σ is the population standard deviation, and n is the sample size.\n",
    "\n",
    "Plugging in the values from the problem, we get:\n",
    "\n",
    "CI = 65 ± 1.645 * 8 / √50\n",
    "CI = 65 ± 2.326\n",
    "CI = (62.674, 67.326)\n",
    "\n",
    "Therefore, we can say with 90% confidence that the true population mean is between 62.674 and 67.326."
   ]
  },
  {
   "cell_type": "markdown",
   "metadata": {},
   "source": []
  }
 ],
 "metadata": {
  "kernelspec": {
   "display_name": "Python 3",
   "language": "python",
   "name": "python3"
  },
  "language_info": {
   "codemirror_mode": {
    "name": "ipython",
    "version": 3
   },
   "file_extension": ".py",
   "mimetype": "text/x-python",
   "name": "python",
   "nbconvert_exporter": "python",
   "pygments_lexer": "ipython3",
   "version": "3.10.0"
  },
  "orig_nbformat": 4
 },
 "nbformat": 4,
 "nbformat_minor": 2
}
